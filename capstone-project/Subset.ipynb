{
 "cells": [
  {
   "cell_type": "code",
   "execution_count": 1,
   "metadata": {},
   "outputs": [],
   "source": [
    "import numpy as np\n",
    "import pandas as pd\n",
    "import matplotlib.pyplot as plt\n",
    "\n",
    "%matplotlib inline"
   ]
  },
  {
   "cell_type": "code",
   "execution_count": 6,
   "metadata": {},
   "outputs": [
    {
     "name": "stderr",
     "output_type": "stream",
     "text": [
      "/usr/local/anaconda3/envs/mle_nd/lib/python3.6/site-packages/IPython/core/interactiveshell.py:2785: DtypeWarning: Columns (3) have mixed types. Specify dtype option on import or set low_memory=False.\n",
      "  interactivity=interactivity, compiler=compiler, result=result)\n"
     ]
    }
   ],
   "source": [
    "nutrients_dt = pd.read_csv('BFPD_csv_07132018/Nutrients.csv')\n",
    "products_dt = pd.read_csv('BFPD_csv_07132018/Products.csv')"
   ]
  },
  {
   "cell_type": "code",
   "execution_count": 5,
   "metadata": {},
   "outputs": [
    {
     "data": {
      "text/html": [
       "<div>\n",
       "<style scoped>\n",
       "    .dataframe tbody tr th:only-of-type {\n",
       "        vertical-align: middle;\n",
       "    }\n",
       "\n",
       "    .dataframe tbody tr th {\n",
       "        vertical-align: top;\n",
       "    }\n",
       "\n",
       "    .dataframe thead th {\n",
       "        text-align: right;\n",
       "    }\n",
       "</style>\n",
       "<table border=\"1\" class=\"dataframe\">\n",
       "  <thead>\n",
       "    <tr style=\"text-align: right;\">\n",
       "      <th></th>\n",
       "      <th>NDB_No</th>\n",
       "      <th>Nutrient_Code</th>\n",
       "      <th>Nutrient_name</th>\n",
       "      <th>Derivation_Code</th>\n",
       "      <th>Output_value</th>\n",
       "      <th>Output_uom</th>\n",
       "    </tr>\n",
       "  </thead>\n",
       "  <tbody>\n",
       "    <tr>\n",
       "      <th>0</th>\n",
       "      <td>45127487</td>\n",
       "      <td>203</td>\n",
       "      <td>Protein</td>\n",
       "      <td>LCGA</td>\n",
       "      <td>4.3</td>\n",
       "      <td>g</td>\n",
       "    </tr>\n",
       "    <tr>\n",
       "      <th>1</th>\n",
       "      <td>45127487</td>\n",
       "      <td>204</td>\n",
       "      <td>Total lipid (fat)</td>\n",
       "      <td>LCGA</td>\n",
       "      <td>18.9</td>\n",
       "      <td>g</td>\n",
       "    </tr>\n",
       "    <tr>\n",
       "      <th>2</th>\n",
       "      <td>45127487</td>\n",
       "      <td>205</td>\n",
       "      <td>Carbohydrate, by difference</td>\n",
       "      <td>LCGA</td>\n",
       "      <td>72.8</td>\n",
       "      <td>g</td>\n",
       "    </tr>\n",
       "    <tr>\n",
       "      <th>3</th>\n",
       "      <td>45127487</td>\n",
       "      <td>207</td>\n",
       "      <td>Ash</td>\n",
       "      <td>LCGA</td>\n",
       "      <td>2.0</td>\n",
       "      <td>g</td>\n",
       "    </tr>\n",
       "    <tr>\n",
       "      <th>4</th>\n",
       "      <td>45127487</td>\n",
       "      <td>255</td>\n",
       "      <td>Water</td>\n",
       "      <td>LCGA</td>\n",
       "      <td>2.0</td>\n",
       "      <td>g</td>\n",
       "    </tr>\n",
       "  </tbody>\n",
       "</table>\n",
       "</div>"
      ],
      "text/plain": [
       "     NDB_No  Nutrient_Code                Nutrient_name Derivation_Code  \\\n",
       "0  45127487            203                      Protein            LCGA   \n",
       "1  45127487            204            Total lipid (fat)            LCGA   \n",
       "2  45127487            205  Carbohydrate, by difference            LCGA   \n",
       "3  45127487            207                          Ash            LCGA   \n",
       "4  45127487            255                        Water            LCGA   \n",
       "\n",
       "   Output_value Output_uom  \n",
       "0           4.3          g  \n",
       "1          18.9          g  \n",
       "2          72.8          g  \n",
       "3           2.0          g  \n",
       "4           2.0          g  "
      ]
     },
     "execution_count": 5,
     "metadata": {},
     "output_type": "execute_result"
    }
   ],
   "source": [
    "nutrients_dt.head()"
   ]
  },
  {
   "cell_type": "code",
   "execution_count": 7,
   "metadata": {},
   "outputs": [
    {
     "data": {
      "text/html": [
       "<div>\n",
       "<style scoped>\n",
       "    .dataframe tbody tr th:only-of-type {\n",
       "        vertical-align: middle;\n",
       "    }\n",
       "\n",
       "    .dataframe tbody tr th {\n",
       "        vertical-align: top;\n",
       "    }\n",
       "\n",
       "    .dataframe thead th {\n",
       "        text-align: right;\n",
       "    }\n",
       "</style>\n",
       "<table border=\"1\" class=\"dataframe\">\n",
       "  <thead>\n",
       "    <tr style=\"text-align: right;\">\n",
       "      <th></th>\n",
       "      <th>NDB_Number</th>\n",
       "      <th>long_name</th>\n",
       "      <th>data_source</th>\n",
       "      <th>gtin_upc</th>\n",
       "      <th>manufacturer</th>\n",
       "      <th>date_modified</th>\n",
       "      <th>date_available</th>\n",
       "      <th>ingredients_english</th>\n",
       "    </tr>\n",
       "  </thead>\n",
       "  <tbody>\n",
       "    <tr>\n",
       "      <th>0</th>\n",
       "      <td>45001524</td>\n",
       "      <td>MOCHI ICE CREAM BONBONS</td>\n",
       "      <td>LI</td>\n",
       "      <td>19022128593</td>\n",
       "      <td>G. T. Japan, Inc.</td>\n",
       "      <td>2017-11-15 19:19:38</td>\n",
       "      <td>2017-11-15 19:19:38</td>\n",
       "      <td>ICE CREAM INGREDIENTS: MILK, CREAM, SUGAR, STR...</td>\n",
       "    </tr>\n",
       "    <tr>\n",
       "      <th>1</th>\n",
       "      <td>45001528</td>\n",
       "      <td>CHIPOTLE BARBECUE SAUCE</td>\n",
       "      <td>LI</td>\n",
       "      <td>5051379043735</td>\n",
       "      <td>FRESH &amp; EASY</td>\n",
       "      <td>2018-04-26 17:23:31</td>\n",
       "      <td>2018-04-26 17:23:31</td>\n",
       "      <td>WATER, SUGAR, TOMATO PASTE, MOLASSES, DISTILLE...</td>\n",
       "    </tr>\n",
       "    <tr>\n",
       "      <th>2</th>\n",
       "      <td>45001529</td>\n",
       "      <td>HOT &amp; SPICY BARBECUE SAUCE</td>\n",
       "      <td>LI</td>\n",
       "      <td>5051379009434</td>\n",
       "      <td>FRESH &amp; EASY</td>\n",
       "      <td>2018-04-26 18:17:37</td>\n",
       "      <td>2018-04-26 18:17:37</td>\n",
       "      <td>SUGAR, WATER, DISTILLED VINEGAR, TOMATO PASTE,...</td>\n",
       "    </tr>\n",
       "    <tr>\n",
       "      <th>3</th>\n",
       "      <td>45001530</td>\n",
       "      <td>BARBECUE SAUCE</td>\n",
       "      <td>LI</td>\n",
       "      <td>5051379019969</td>\n",
       "      <td>FRESH &amp; EASY</td>\n",
       "      <td>2018-04-26 17:24:00</td>\n",
       "      <td>2018-04-26 17:24:00</td>\n",
       "      <td>TOMATO PUREE (WATER, TOMATO PASTE), SUGAR, DIS...</td>\n",
       "    </tr>\n",
       "    <tr>\n",
       "      <th>4</th>\n",
       "      <td>45001531</td>\n",
       "      <td>BARBECUE SAUCE</td>\n",
       "      <td>LI</td>\n",
       "      <td>5051379009526</td>\n",
       "      <td>FRESH &amp; EASY</td>\n",
       "      <td>2018-04-26 17:47:41</td>\n",
       "      <td>2018-04-26 17:47:41</td>\n",
       "      <td>SUGAR, DISTILLED VINEGAR, WATER, TOMATO PASTE,...</td>\n",
       "    </tr>\n",
       "  </tbody>\n",
       "</table>\n",
       "</div>"
      ],
      "text/plain": [
       "   NDB_Number                   long_name data_source       gtin_upc  \\\n",
       "0    45001524     MOCHI ICE CREAM BONBONS          LI    19022128593   \n",
       "1    45001528     CHIPOTLE BARBECUE SAUCE          LI  5051379043735   \n",
       "2    45001529  HOT & SPICY BARBECUE SAUCE          LI  5051379009434   \n",
       "3    45001530              BARBECUE SAUCE          LI  5051379019969   \n",
       "4    45001531              BARBECUE SAUCE          LI  5051379009526   \n",
       "\n",
       "        manufacturer        date_modified       date_available  \\\n",
       "0  G. T. Japan, Inc.  2017-11-15 19:19:38  2017-11-15 19:19:38   \n",
       "1       FRESH & EASY  2018-04-26 17:23:31  2018-04-26 17:23:31   \n",
       "2       FRESH & EASY  2018-04-26 18:17:37  2018-04-26 18:17:37   \n",
       "3       FRESH & EASY  2018-04-26 17:24:00  2018-04-26 17:24:00   \n",
       "4       FRESH & EASY  2018-04-26 17:47:41  2018-04-26 17:47:41   \n",
       "\n",
       "                                 ingredients_english  \n",
       "0  ICE CREAM INGREDIENTS: MILK, CREAM, SUGAR, STR...  \n",
       "1  WATER, SUGAR, TOMATO PASTE, MOLASSES, DISTILLE...  \n",
       "2  SUGAR, WATER, DISTILLED VINEGAR, TOMATO PASTE,...  \n",
       "3  TOMATO PUREE (WATER, TOMATO PASTE), SUGAR, DIS...  \n",
       "4  SUGAR, DISTILLED VINEGAR, WATER, TOMATO PASTE,...  "
      ]
     },
     "execution_count": 7,
     "metadata": {},
     "output_type": "execute_result"
    }
   ],
   "source": [
    "products_dt.head()"
   ]
  },
  {
   "cell_type": "code",
   "execution_count": 9,
   "metadata": {},
   "outputs": [
    {
     "name": "stdout",
     "output_type": "stream",
     "text": [
      "(239089, 8)\n"
     ]
    }
   ],
   "source": [
    "print(products_dt.shape)"
   ]
  },
  {
   "cell_type": "code",
   "execution_count": 10,
   "metadata": {},
   "outputs": [
    {
     "data": {
      "text/plain": [
       "0           LI\n",
       "1           LI\n",
       "2           LI\n",
       "3           LI\n",
       "4           LI\n",
       "5           LI\n",
       "6           LI\n",
       "7           LI\n",
       "8           LI\n",
       "9           LI\n",
       "10          LI\n",
       "11          LI\n",
       "12          LI\n",
       "13          LI\n",
       "14          LI\n",
       "15          LI\n",
       "16          LI\n",
       "17          LI\n",
       "18          LI\n",
       "19          LI\n",
       "20          LI\n",
       "21          LI\n",
       "22          LI\n",
       "23          LI\n",
       "24          LI\n",
       "25          LI\n",
       "26          LI\n",
       "27          LI\n",
       "28          LI\n",
       "29          LI\n",
       "          ... \n",
       "239059      LI\n",
       "239060      LI\n",
       "239061      LI\n",
       "239062      LI\n",
       "239063      LI\n",
       "239064    GDSN\n",
       "239065    GDSN\n",
       "239066    GDSN\n",
       "239067    GDSN\n",
       "239068    GDSN\n",
       "239069    GDSN\n",
       "239070    GDSN\n",
       "239071    GDSN\n",
       "239072    GDSN\n",
       "239073    GDSN\n",
       "239074    GDSN\n",
       "239075    GDSN\n",
       "239076    GDSN\n",
       "239077    GDSN\n",
       "239078    GDSN\n",
       "239079    GDSN\n",
       "239080    GDSN\n",
       "239081    GDSN\n",
       "239082    GDSN\n",
       "239083    GDSN\n",
       "239084    GDSN\n",
       "239085    GDSN\n",
       "239086    GDSN\n",
       "239087    GDSN\n",
       "239088    GDSN\n",
       "Name: data_source, Length: 239089, dtype: object"
      ]
     },
     "execution_count": 10,
     "metadata": {},
     "output_type": "execute_result"
    }
   ],
   "source": [
    "products_dt.data_source.unique"
   ]
  },
  {
   "cell_type": "code",
   "execution_count": null,
   "metadata": {},
   "outputs": [],
   "source": []
  }
 ],
 "metadata": {
  "kernelspec": {
   "display_name": "Python [conda env:mle_nd]",
   "language": "python",
   "name": "conda-env-mle_nd-py"
  },
  "language_info": {
   "codemirror_mode": {
    "name": "ipython",
    "version": 3
   },
   "file_extension": ".py",
   "mimetype": "text/x-python",
   "name": "python",
   "nbconvert_exporter": "python",
   "pygments_lexer": "ipython3",
   "version": "3.6.3"
  }
 },
 "nbformat": 4,
 "nbformat_minor": 2
}
